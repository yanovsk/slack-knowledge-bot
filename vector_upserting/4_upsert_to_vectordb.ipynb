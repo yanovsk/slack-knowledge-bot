{
 "cells": [
  {
   "cell_type": "code",
   "execution_count": null,
   "metadata": {},
   "outputs": [],
   "source": [
    "import os\n",
    "import openai\n",
    "import pinecone\n",
    "import json\n",
    "from langchain.text_splitter import RecursiveCharacterTextSplitter\n",
    "from json import JSONDecodeError\n",
    "from PIL import Image\n",
    "from io import BytesIO\n",
    "\n",
    "#INSERT API KEYS HERE\n",
    "pinecone.init(api_key=\"\", environment=\"us-west4-gcp\")\n",
    "index = pinecone.Index(index_name='')\n",
    "os.environ['OPENAI_API_KEY'] = \"\"\n",
    "openai.api_key = \"\"\n",
    "\n",
    "i=1\n"
   ]
  },
  {
   "cell_type": "code",
   "execution_count": null,
   "metadata": {},
   "outputs": [],
   "source": [
    "#UPSERT CHUNKS INTO DB\n",
    "import json\n",
    "\n",
    "#edit this to add filenames and channel names of channels to be upserted\n",
    "filenames = {\n",
    "  \"user-feedback.json\": \"#user-feedback\", #<-- edit filenames here\n",
    "}\n",
    "\n",
    "for filename in filenames:\n",
    "\n",
    "    with open(f\"./to_pinecone/{filename}\", 'r') as f:\n",
    "        chunks = json.load(f)\n",
    "    \n",
    "    CHANNEL_NAME = filenames[filename]\n",
    "    embed_id = 1\n",
    "\n",
    "    for file in chunks:\n",
    "        EMBED_ID= f\"{CHANNEL_NAME}_{embed_id}\"\n",
    "\n",
    "        try:\n",
    "            qa = file['qa']\n",
    "        except KeyError:\n",
    "            print(CHANNEL_NAME, \"no qa\")\n",
    "            qa = file['messages']\n",
    "\n",
    "        chunk = file['messages']\n",
    "        link = file['link']\n",
    "        time = file['time']\n",
    "\n",
    "        timestamp = file['timestamp']\n",
    "\n",
    "        description_response = openai.Embedding.create(\n",
    "            input=qa,\n",
    "            model=\"text-embedding-ada-002\",\n",
    "        )\n",
    "        description_embeddings = description_response[\"data\"][0][\"embedding\"]\n",
    "\n",
    "        index.upsert([\n",
    "        (EMBED_ID, description_embeddings, {\"link\": link, \"chunk\": chunk, \"time\": time, \"timestamp\": timestamp, \"channel\": CHANNEL_NAME })\n",
    "        ], namespace='slack',)\n",
    "        embed_id+=1\n",
    "    print(f\"{CHANNEL_NAME} ({embed_id} chunks)\")\n"
   ]
  },
  {
   "cell_type": "code",
   "execution_count": null,
   "metadata": {},
   "outputs": [],
   "source": [
    "#Test chunks \n",
    "QUERY = \" Current status of Offer Letter e2e?\"\n",
    "\n",
    "response = openai.Embedding.create(\n",
    "input=QUERY,\n",
    "model=\"text-embedding-ada-002\",\n",
    ")\n",
    "embeddings_vector = response[\"data\"][0][\"embedding\"]\n",
    "\n",
    "pinecone_result = index.query(vector=embeddings_vector,\n",
    "                            include_metadata=True,\n",
    "                            # filter=        {\"channel\": {\n",
    "                            #         \"$eq\": \"#bugs\"\n",
    "                            #       }},\n",
    "                            top_k=15,\n",
    "                            namespace='slack')\n"
   ]
  }
 ],
 "metadata": {
  "kernelspec": {
   "display_name": "Python 3",
   "language": "python",
   "name": "python3"
  },
  "language_info": {
   "codemirror_mode": {
    "name": "ipython",
    "version": 3
   },
   "file_extension": ".py",
   "mimetype": "text/x-python",
   "name": "python",
   "nbconvert_exporter": "python",
   "pygments_lexer": "ipython3",
   "version": "3.11.3"
  },
  "orig_nbformat": 4
 },
 "nbformat": 4,
 "nbformat_minor": 2
}
